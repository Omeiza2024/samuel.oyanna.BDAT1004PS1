{
 "cells": [
  {
   "cell_type": "markdown",
   "id": "ba9e1898-43e5-4ac9-98fb-466298c9dc44",
   "metadata": {},
   "source": [
    "# Question 1\n",
    "Data Set"
   ]
  },
  {
   "cell_type": "code",
   "execution_count": 2,
   "id": "09231334-36b3-4b70-bf0c-a8d073893ff2",
   "metadata": {},
   "outputs": [
    {
     "name": "stdout",
     "output_type": "stream",
     "text": [
      "5 <class 'int'>\n",
      "5.0 <class 'float'>\n",
      "True <class 'bool'>\n",
      "5 <class 'str'>\n",
      "10 <class 'int'>\n",
      "55 <class 'str'>\n",
      "52 <class 'str'>\n",
      "2.5 <class 'float'>\n",
      "1 <class 'int'>\n",
      "{1, 2, 5} <class 'set'>\n",
      "False <class 'bool'>\n",
      "3.14159 <class 'float'>\n"
     ]
    }
   ],
   "source": [
    "\n",
    "\n",
    "a = 5\n",
    "print(a, type(a))\n",
    "\n",
    "a = 5.0\n",
    "print(a, type(a))\n",
    "\n",
    "a = 5 > 1\n",
    "print(a, type(a))\n",
    "\n",
    "a = '5'\n",
    "print(a, type(a))\n",
    "\n",
    "a = 5 * 2\n",
    "print(a, type(a))\n",
    "\n",
    "a = '5' * 2\n",
    "print(a, type(a))\n",
    "\n",
    "a = '5' + '2'\n",
    "print(a, type(a))\n",
    "\n",
    "a = 5 / 2\n",
    "print(a, type(a))\n",
    "\n",
    "a = 5 % 2\n",
    "print(a, type(a))\n",
    "\n",
    "a = {5, 2, 1}\n",
    "print(a, type(a))\n",
    "\n",
    "a = 5 == 3\n",
    "print(a, type(a))\n",
    "\n",
    "a = 3.14159\n",
    "print(a, type(a))\n"
   ]
  },
  {
   "cell_type": "markdown",
   "id": "efc622e3-0fc7-4fe0-afba-b7d5a24e15e9",
   "metadata": {},
   "source": [
    "# Question 2\n",
    "Python Expressions"
   ]
  },
  {
   "cell_type": "code",
   "execution_count": 8,
   "id": "ffc82048-9781-4ad1-af78-044ed58a221f",
   "metadata": {},
   "outputs": [
    {
     "name": "stdout",
     "output_type": "stream",
     "text": [
      "34\n",
      "True\n",
      "Supercalifragilisticexpialidocious\n",
      "Bartok Buxtehude\n"
     ]
    }
   ],
   "source": [
    "\n",
    "a = 'Supercalifragilisticexpialidocious'\n",
    "print(len(a))\n",
    "\n",
    "print('ice' in a)\n",
    "\n",
    "words = ['Supercalifragilisticexpialidocious', 'Honorificabilitudinitatibus', 'Bababadalgharaghtakamminarronnkonn']\n",
    "longest_word = max(words, key=len)\n",
    "print(longest_word)\n",
    "\n",
    "composers = ['Berlioz', 'Borodin', 'Brian', 'Bartok', 'Bellini', 'Buxtehude', 'Bernstein']\n",
    "first_composer = min(composers)\n",
    "last_composer = max(composers)\n",
    "print(first_composer, last_composer)\n"
   ]
  },
  {
   "cell_type": "markdown",
   "id": "ffdbf8e2-656d-470c-937e-ba8fb51c4895",
   "metadata": {},
   "source": [
    "# Question 3\n",
    "Seperation of odd and even Integer"
   ]
  },
  {
   "cell_type": "code",
   "execution_count": 20,
   "id": "43a0e298-3fe8-4628-93d3-e5fce846a4a8",
   "metadata": {},
   "outputs": [
    {
     "name": "stdin",
     "output_type": "stream",
     "text": [
      "Input the number of elements to be stored in the array:  5\n",
      "element - 0 :  25\n",
      "element - 1 :  47\n",
      "element - 2 :  42\n",
      "element - 3 :  56\n",
      "element - 4 :  32\n"
     ]
    },
    {
     "name": "stdout",
     "output_type": "stream",
     "text": [
      "The Even elements are: 42 56 32\n",
      "The Odd elements are: 25 47\n"
     ]
    }
   ],
   "source": [
    "\n",
    "def separate_odd_even():\n",
    "    n = int(input(\"Input the number of elements to be stored in the array: \"))\n",
    "    \n",
    "    even_numbers = []\n",
    "    odd_numbers = []\n",
    "\n",
    "    for i in range(n):\n",
    "        element = int(input(f\"element - {i} : \"))\n",
    "        if element % 2 == 0:\n",
    "            even_numbers.append(element)\n",
    "        else:\n",
    "            odd_numbers.append(element)\n",
    "    \n",
    "    print(\"The Even elements are:\", ' '.join(map(str, even_numbers)))\n",
    "    print(\"The Odd elements are:\", ' '.join(map(str, odd_numbers)))\n",
    "\n",
    "separate_odd_even()\n"
   ]
  },
  {
   "cell_type": "markdown",
   "id": "26113735-8dfa-4940-8c3d-ddc969d22d7f",
   "metadata": {},
   "source": [
    "# Question 4\n",
    "Triangle Area"
   ]
  },
  {
   "cell_type": "code",
   "execution_count": 22,
   "id": "68739121-0afd-4634-9163-6b050bd0bbe5",
   "metadata": {},
   "outputs": [
    {
     "name": "stdout",
     "output_type": "stream",
     "text": [
      "1.7320508075688772\n"
     ]
    }
   ],
   "source": [
    "import math\n",
    "\n",
    "def triangleArea(a, b, c):\n",
    "    s = (a + b + c) / 2\n",
    "    \n",
    "    area = math.sqrt(s * (s - a) * (s - b) * (s - c))\n",
    "    \n",
    "    return area\n",
    "\n",
    "print(triangleArea(2, 2, 2))  # Output: 1.7320508075688772\n"
   ]
  },
  {
   "cell_type": "markdown",
   "id": "731050e9-b98a-402d-82ed-8dd6a15a6403",
   "metadata": {},
   "source": [
    "# Question 5\n",
    "Checks if a point (x, y) lies within a rectangle"
   ]
  },
  {
   "cell_type": "code",
   "execution_count": 27,
   "id": "e416de43-1f2e-40e8-bbbb-8a0317f95fde",
   "metadata": {},
   "outputs": [
    {
     "name": "stdout",
     "output_type": "stream",
     "text": [
      "True\n",
      "False\n",
      "False\n"
     ]
    }
   ],
   "source": [
    "\n",
    "def inside(x, y, x1, y1, x2, y2):\n",
    "    return x1 <= x <= x2 and y1 <= y <= y2\n",
    "print(inside(1, 1, 0, 0, 2, 3))  # Output: True\n",
    "print(inside(-1, -1, 0, 0, 2, 3))  # Output: False\n",
    "rect1_contains_point = inside(1, 1, 0.3, 0.5, 1.1, 0.7)\n",
    "#part B\n",
    "rect2_contains_point = inside(1, 1, 0.5, 0.2, 1.1, 2)\n",
    "both_rectangles_contain_point = rect1_contains_point and rect2_contains_point\n",
    "print(both_rectangles_contain_point)  # Output: False\n"
   ]
  },
  {
   "cell_type": "markdown",
   "id": "068de320-86cb-446b-bd21-33e91d88a35b",
   "metadata": {},
   "source": [
    "# Question 6\n",
    "Pig()"
   ]
  },
  {
   "cell_type": "code",
   "execution_count": 30,
   "id": "d25d0ac6-45e9-4e2a-9fc7-a9267312b6fa",
   "metadata": {},
   "outputs": [
    {
     "name": "stdout",
     "output_type": "stream",
     "text": [
      "appyhay\n",
      "enterway\n"
     ]
    }
   ],
   "source": [
    "def pig(word):\n",
    "    word = word.lower()\n",
    "    vowels = 'aeiou'\n",
    "    if word[0] in vowels:\n",
    "        return word + 'way'\n",
    "    else:\n",
    "        return word[1:] + word[0] + 'ay'\n",
    "print(pig('happy'))   # Output: 'appyhay'\n",
    "print(pig('Enter'))   # Output: 'enterway'\n"
   ]
  },
  {
   "cell_type": "markdown",
   "id": "9f974540-f765-4e5c-82f8-c37c57a79118",
   "metadata": {},
   "source": [
    "# Question 7\n",
    "Blood Count()"
   ]
  },
  {
   "cell_type": "code",
   "execution_count": 2,
   "id": "90a37f1f-f4dd-4268-b684-e36bfd3ef4c8",
   "metadata": {},
   "outputs": [
    {
     "name": "stdout",
     "output_type": "stream",
     "text": [
      "There are 15 patients of blood type A.\n",
      "There is one patient of blood type B.\n",
      "There are 13 patients of blood type AB.\n",
      "There are 15 patients of blood type O.\n",
      "There are no patients of blood type OO.\n"
     ]
    }
   ],
   "source": [
    "def bldcount(filename):\n",
    "    blood_types = {'A': 0, 'B': 0, 'AB': 0, 'O': 0, 'OO': 0}\n",
    "\n",
    "    with open(filename, 'r') as file:\n",
    "        blood_data = file.read().strip().split()\n",
    "\n",
    "    for blood in blood_data:\n",
    "        if blood in blood_types:\n",
    "            blood_types[blood] += 1\n",
    "\n",
    "    for blood_type, count in blood_types.items():\n",
    "        if count == 1:\n",
    "            print(f\"There is one patient of blood type {blood_type}.\")\n",
    "        elif count == 0:\n",
    "            print(f\"There are no patients of blood type {blood_type}.\")\n",
    "        else:\n",
    "            print(f\"There are {count} patients of blood type {blood_type}.\")\n",
    "\n",
    "bldcount('bloodtype1.txt')  # Replace with your actual filename\n"
   ]
  },
  {
   "cell_type": "markdown",
   "id": "f4113fa4-e075-4b13-bfcd-48467d993e26",
   "metadata": {},
   "source": [
    "# Question 8\n",
    "Currency Conversion()"
   ]
  },
  {
   "cell_type": "code",
   "execution_count": 19,
   "id": "3f9fa564-e7df-4bf5-b764-93194b8b3895",
   "metadata": {},
   "outputs": [
    {
     "name": "stdout",
     "output_type": "stream",
     "text": [
      "122.96544\n",
      "1.241401\n"
     ]
    }
   ],
   "source": [
    "def curconv(currency, amount):\n",
    "    conversion_rates = {\n",
    "        'EUR': 1.2296544,  # 1 Euro = 1.2296544 USD\n",
    "        'JPY': 0.01241401  # 1 Japanese Yen = 0.01241401 USD\n",
    "    if currency in conversion_rates:\n",
    "        return amount * conversion_rates[currency]\n",
    "    else:\n",
    "        raise ValueError(\"Currency not supported.\")\n",
    "print(curconv('EUR', 100))  # Output: 122.96544\n",
    "print(curconv('JPY', 100))  # Output: 1.241401\n"
   ]
  },
  {
   "cell_type": "markdown",
   "id": "c5ca03fd-68c6-4801-9399-786c3cc0b324",
   "metadata": {},
   "source": [
    "# Question 9\n",
    "Exceptions"
   ]
  },
  {
   "cell_type": "markdown",
   "id": "917c287e-925c-481e-8017-e549f519338b",
   "metadata": {},
   "source": [
    "Trying to add incompatible variables \n",
    "Referring to an out-of-bounds index in a list\n",
    "Using an invalid input for a function\n",
    "Using an undeclared variable\n",
    "Opening a non-existant file"
   ]
  },
  {
   "cell_type": "markdown",
   "id": "09d1920a-5ac2-44d4-a0bd-b3d9f4355f62",
   "metadata": {},
   "source": [
    "Trying to add incompatible variables, as in adding 6 + 'a':\n",
    "\n",
    "Exception Type: TypeError\n",
    "Explanation: You are trying to perform an operation (addition)\n",
    "between two incompatible types: an integer (6) and a string ('a'). \n",
    "Python cannot add these two types together.\n",
    "\n",
    "    Referring to the 12th item of a list that has only 10 items:\n",
    "\n",
    "Exception Type: IndexError\n",
    "Explanation: The list only has 10 items \n",
    "(with indices from 0 to 9), so trying to access the 12th item (index 11) is out of range.\n",
    "\n",
    "Using a value that is out of range for a function’s input, such as calling math.sqrt(-1.0):\n",
    "\n",
    "Exception Type: ValueError\n",
    "Explanation: The square root function (math.sqrt) \n",
    "cannot handle negative numbers in the real number domain, and passing -1.0 as an argument is invalid for this function.\n",
    "\n",
    "    Using an undeclared variable, such as print(x) when x has not been defined:\n",
    "\n",
    "Exception Type: NameError\n",
    "Explanation: The variable x has not been declared or assigned a value,\n",
    "so Python does not know what x refers to when attempting to print it.\n",
    "\n",
    "Trying to open a file that does not exist, such as mistyping the file name or looking in the wrong directory:\n",
    "\n",
    "Exception Type: FileNotFoundError\n",
    "Explanation: When you attempt to open a file that doesn’t exist in the specified directory, Python will raise a FileNotFoundError."
   ]
  },
  {
   "cell_type": "markdown",
   "id": "c678c529-49c3-4ebc-be41-3ec61a9da648",
   "metadata": {},
   "source": [
    "# Question 10\n",
    "Frequencies ()"
   ]
  },
  {
   "cell_type": "code",
   "execution_count": 3,
   "id": "a3cb9403-7a69-432f-a480-c196256138bf",
   "metadata": {},
   "outputs": [
    {
     "name": "stdout",
     "output_type": "stream",
     "text": [
      "[1, 1, 1, 3, 5, 1, 1, 2, 1, 0, 1, 0, 1, 2, 4, 0, 1, 2, 0, 3, 1, 0, 1, 1, 0, 0]\n",
      "[1, 0, 0, 0, 1, 0, 0, 0, 0, 0, 0, 1, 0, 0, 0, 2, 0, 0, 0, 0, 0, 0, 0, 0, 0, 0]\n"
     ]
    }
   ],
   "source": [
    "def frequencies(text):\n",
    "    letters = 'abcdefghijklmnopqrstuvwxyz'\n",
    "    freq = [0] * 26\n",
    "    \n",
    "    text = text.lower()\n",
    "    for char in text:\n",
    "        if char in letters:\n",
    "            index = letters.index(char)\n",
    "            freq[index] += 1\n",
    "    return freq\n",
    "print(frequencies('The quick red fox got bored and went home.')) \n",
    "# Output: [1, 1, 1, 3, 5, 1, 1, 2, 1, 0, 1, 0, 1, 2, 4, 0, 1, 2, 0, 2, 1, 0, 1, 1, 0, 0]\n",
    "\n",
    "print(frequencies('apple'))  \n",
    "# Output: [1, 0, 0, 0, 1, 0, 0, 0, 0, 0, 0, 0, 0, 0, 0, 0, 0, 0, 0, 0, 0, 0, 0, 0, 0, 0]\n"
   ]
  },
  {
   "cell_type": "code",
   "execution_count": null,
   "id": "61cf63db-eb67-434f-b218-ee21661b3926",
   "metadata": {},
   "outputs": [],
   "source": []
  }
 ],
 "metadata": {
  "kernelspec": {
   "display_name": "Python 3 (ipykernel)",
   "language": "python",
   "name": "python3"
  },
  "language_info": {
   "codemirror_mode": {
    "name": "ipython",
    "version": 3
   },
   "file_extension": ".py",
   "mimetype": "text/x-python",
   "name": "python",
   "nbconvert_exporter": "python",
   "pygments_lexer": "ipython3",
   "version": "3.12.4"
  }
 },
 "nbformat": 4,
 "nbformat_minor": 5
}
